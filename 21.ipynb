{
 "cells": [
  {
   "cell_type": "code",
   "execution_count": 5,
   "id": "96f80196-5e71-417f-9832-36f99094ab18",
   "metadata": {},
   "outputs": [],
   "source": [
    "import cv2"
   ]
  },
  {
   "cell_type": "code",
   "execution_count": 7,
   "id": "3e7e0368-dc9a-482a-ad84-646acb2e38b0",
   "metadata": {},
   "outputs": [],
   "source": [
    "#Đọc video từ file\n",
    "my_video = cv2.VideoCapture('./Data/Sun.mp4')"
   ]
  },
  {
   "cell_type": "code",
   "execution_count": 9,
   "id": "25f591bc-9e57-4d53-aabf-111c9cb3677d",
   "metadata": {},
   "outputs": [],
   "source": [
    "#Tạo cửa sổ để hiển thị\n",
    "cv2.namedWindow('Video Player', cv2.WINDOW_NORMAL)"
   ]
  },
  {
   "cell_type": "code",
   "execution_count": 11,
   "id": "5ec50435-3a49-4e6e-a097-d9bc559d4238",
   "metadata": {},
   "outputs": [],
   "source": [
    "#Hiển thị từng khung ảnh\n",
    "while True:\n",
    "    # Đọc 1 frame\n",
    "    ret, frame = my_video.read()\n",
    "    \n",
    "    # Thoát khi không thể đọc được frame\n",
    "    if not ret:\n",
    "        break\n",
    "    \n",
    "    # Hiển thị\n",
    "    cv2.imshow('Video Player', frame)\n",
    "    \n",
    "    if(cv2.waitKey(10)==ord('q')):\n",
    "        break"
   ]
  },
  {
   "cell_type": "code",
   "execution_count": 13,
   "id": "76f6cb2f-4aad-4334-9a4d-e6d9d4e73ab0",
   "metadata": {},
   "outputs": [],
   "source": [
    "#Hủy bỏ player\n",
    "my_video.release\n",
    "cv2.destroyAllWindows()"
   ]
  }
 ],
 "metadata": {
  "kernelspec": {
   "display_name": "Python 3 (ipykernel)",
   "language": "python",
   "name": "python3"
  },
  "language_info": {
   "codemirror_mode": {
    "name": "ipython",
    "version": 3
   },
   "file_extension": ".py",
   "mimetype": "text/x-python",
   "name": "python",
   "nbconvert_exporter": "python",
   "pygments_lexer": "ipython3",
   "version": "3.12.4"
  }
 },
 "nbformat": 4,
 "nbformat_minor": 5
}
