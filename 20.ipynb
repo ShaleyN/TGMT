{
 "cells": [
  {
   "cell_type": "code",
   "execution_count": 54,
   "id": "ee6d6908-5bf6-410e-9108-5242b77aa277",
   "metadata": {},
   "outputs": [],
   "source": [
    "import cv2\n",
    "import numpy as np"
   ]
  },
  {
   "cell_type": "code",
   "execution_count": 56,
   "id": "89661f2e-75ba-441f-97d3-978cd1ce80c7",
   "metadata": {},
   "outputs": [],
   "source": [
    "def display(title, img):\n",
    "    #hien thi anh\n",
    "    cv2.imshow(title, img)\n",
    "    #Cho 1 khoang thoi gian\n",
    "    cv2.waitKey(0)\n",
    "    #Dong Window\n",
    "    cv2.destroyWindow(title)"
   ]
  },
  {
   "cell_type": "code",
   "execution_count": 88,
   "id": "71eea9fe-3961-4433-88a9-d136bc268940",
   "metadata": {},
   "outputs": [],
   "source": [
    "#Tao mot anh\n",
    "img = np.zeros((400, 400, 3), dtype=np.uint8)\n",
    "display('Image', img)"
   ]
  },
  {
   "cell_type": "code",
   "execution_count": 90,
   "id": "970a21c9-cc86-4387-b6d0-39ec6d036fc5",
   "metadata": {},
   "outputs": [],
   "source": [
    "#Vẽ đường thẳng\n",
    "cv2.line(img, (50, 50) , (350, 50), (0,0,255), 2)\n",
    "display('Image', img)"
   ]
  },
  {
   "cell_type": "code",
   "execution_count": 92,
   "id": "cf0c7381-3ad8-40e7-9fa2-ac370ae00625",
   "metadata": {},
   "outputs": [],
   "source": [
    "#Vẽ hình tròn\n",
    "cv2.circle(img, (100,100), 50, (122, 255, 0), -1)\n",
    "display('Image', img)"
   ]
  },
  {
   "cell_type": "code",
   "execution_count": 94,
   "id": "35084aef-830c-4d5e-9b46-62837f719f2f",
   "metadata": {},
   "outputs": [],
   "source": [
    "#Vẽ hình chữ nhật\n",
    "cv2.rectangle(img, (100,100),(300,300), (255, 255, 0), -1)\n",
    "display('Image', img)"
   ]
  },
  {
   "cell_type": "code",
   "execution_count": 96,
   "id": "f1bb22bb-b72c-41ce-a533-c592acdf80b9",
   "metadata": {},
   "outputs": [],
   "source": [
    "#Ghi text trên hình ảnh\n",
    "content = 'Nguyen Thanh Sang'\n",
    "font = cv2.FONT_HERSHEY_SIMPLEX\n",
    "cv2.putText(img, content, (10, 380), font, 0.6, (255, 255, 255), 2)\n",
    "display('Image', img)"
   ]
  }
 ],
 "metadata": {
  "kernelspec": {
   "display_name": "Python 3 (ipykernel)",
   "language": "python",
   "name": "python3"
  },
  "language_info": {
   "codemirror_mode": {
    "name": "ipython",
    "version": 3
   },
   "file_extension": ".py",
   "mimetype": "text/x-python",
   "name": "python",
   "nbconvert_exporter": "python",
   "pygments_lexer": "ipython3",
   "version": "3.12.4"
  }
 },
 "nbformat": 4,
 "nbformat_minor": 5
}
