{
 "cells": [
  {
   "cell_type": "code",
   "execution_count": 1,
   "id": "46db98e3-08ec-4bad-8785-fbd054c38b0e",
   "metadata": {},
   "outputs": [],
   "source": [
    "#Import thư viện\n",
    "from PIL import Image\n",
    "import matplotlib.pyplot as plt\n",
    "import numpy as np"
   ]
  },
  {
   "cell_type": "code",
   "execution_count": 13,
   "id": "d240b939-5bee-4329-ac04-79206ee82cb1",
   "metadata": {},
   "outputs": [
    {
     "name": "stdout",
     "output_type": "stream",
     "text": [
      "(736, 736, 3)\n",
      "(736, 736)\n",
      "float32\n"
     ]
    }
   ],
   "source": [
    "#Đường dẫn ảnh\n",
    "my_path = 'C:/Users/ADMIN/Documents/img/01/5.jpg'\n",
    "\n",
    "#Đọc ảnh\n",
    "im = Image.open(my_path)\n",
    "\n",
    "#Chuyển hình về mảng array\n",
    "im_array = np.array(im)\n",
    "\n",
    "#Kiểm tra kích thước ảnh\n",
    "print(im_array.shape)\n",
    "\n",
    "#Chuyển đổi sang ảnh xám\n",
    "im_array_2 = np.array(im.convert('L'), 'f')\n",
    "print(im_array_2.shape)\n",
    "print(im_array_2.dtype)"
   ]
  },
  {
   "cell_type": "code",
   "execution_count": 15,
   "id": "c28a42b8-c950-4f71-876b-02f80cfe7cbf",
   "metadata": {},
   "outputs": [
    {
     "ename": "NameError",
     "evalue": "name 'image' is not defined",
     "output_type": "error",
     "traceback": [
      "\u001b[1;31m---------------------------------------------------------------------------\u001b[0m",
      "\u001b[1;31mNameError\u001b[0m                                 Traceback (most recent call last)",
      "Cell \u001b[1;32mIn[15], line 2\u001b[0m\n\u001b[0;32m      1\u001b[0m \u001b[38;5;66;03m# Chuyển đổi hình ảnh thành mảng NumPy\u001b[39;00m\n\u001b[1;32m----> 2\u001b[0m image_array \u001b[38;5;241m=\u001b[39m np\u001b[38;5;241m.\u001b[39marray(image\u001b[38;5;241m.\u001b[39mconvert(\u001b[38;5;124m\"\u001b[39m\u001b[38;5;124mL\u001b[39m\u001b[38;5;124m\"\u001b[39m))\n",
      "\u001b[1;31mNameError\u001b[0m: name 'image' is not defined"
     ]
    }
   ],
   "source": [
    "import numpy as np\n",
    "from PIL import Image\n",
    "import matplotlib.pyplot as plt\n",
    "\n",
    "# Đọc hình ảnh từ tệp\n",
    "my_path = C:/Users/ADMIN/Documents/img/01/5.jpg'\n",
    "image = Image.open(my_path)\n",
    "\n",
    "# Chuyển đổi hình ảnh thành mảng NumPy\n",
    "image_array = np.array(image.convert(\"L\"))\n",
    "\n",
    "# Biến đổi ảnh xám theo yêu cầu\n",
    "inverted_image = 255 - image_array  # Invert ảnh bằng cách lấy 255 - giá trị pixel\n",
    "squared_image = image_array ** 2  # Bình phương giá trị pixel\n",
    "clamped_image = np.clip(image_array, 100, 200)  # Giới hạn giá trị pixel trong khoảng 100-200\n",
    "\n",
    "# Hiển thị hình ảnh gốc và hình ảnh đã biến đổi với khoảng trắng\n",
    "fig, axs = plt.subplots(2, 2, figsize=(10, 10))\n",
    "fig.subplots_adjust(wspace=0.2, hspace=0.2)\n",
    "\n",
    "axs[0, 0].imshow(image_array, cmap=\"gray\")\n",
    "axs[0, 0].set_title('Hình ảnh gốc')\n",
    "\n",
    "axs[0, 1].imshow(inverted_image, cmap=\"gray\")\n",
    "axs[0, 1].set_title('Hình ảnh đã biến đổi')\n",
    "\n",
    "axs[1, 0].imshow(squared_image, cmap=\"gray\")\n",
    "axs[1, 0].set_title('Hình ảnh đã biến đổi')\n",
    "\n",
    "axs[1, 1].imshow(clamped_image, cmap=\"gray\")\n",
    "axs[1, 1].set_title('Hình ảnh đã biến đổi')\n",
    "\n",
    "plt.show()"
   ]
  },
  {
   "cell_type": "code",
   "execution_count": null,
   "id": "71db7611-6934-46df-b03e-b9fffd214073",
   "metadata": {},
   "outputs": [],
   "source": []
  }
 ],
 "metadata": {
  "kernelspec": {
   "display_name": "Python 3 (ipykernel)",
   "language": "python",
   "name": "python3"
  },
  "language_info": {
   "codemirror_mode": {
    "name": "ipython",
    "version": 3
   },
   "file_extension": ".py",
   "mimetype": "text/x-python",
   "name": "python",
   "nbconvert_exporter": "python",
   "pygments_lexer": "ipython3",
   "version": "3.12.4"
  }
 },
 "nbformat": 4,
 "nbformat_minor": 5
}
