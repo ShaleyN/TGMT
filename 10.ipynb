{
 "cells": [
  {
   "cell_type": "code",
   "execution_count": 1,
   "id": "8ae29788-2bc8-48c4-8154-5fdfbe3ffe70",
   "metadata": {},
   "outputs": [],
   "source": [
    "from PIL import Image\n",
    "import matplotlib.pyplot as plt"
   ]
  },
  {
   "cell_type": "code",
   "execution_count": 6,
   "id": "707d0ef2-d10f-44bd-927a-0c1315f0b081",
   "metadata": {},
   "outputs": [],
   "source": [
    "# Đường dẫn ảnh\n",
    "my_path = 'C:/Users/ADMIN/Documents/img/01/6.jpg'"
   ]
  },
  {
   "cell_type": "code",
   "execution_count": 8,
   "id": "ddd9bfbe-b30c-4a3b-9ba9-f7c3068b6c2c",
   "metadata": {},
   "outputs": [
    {
     "name": "stdout",
     "output_type": "stream",
     "text": [
      "[(133.84920634920633, 423.7886002886003), (249.34704184704174, 529.9935064935065), (390.0685425685425, 368.03102453102457), (402.0165945165944, 516.7178932178932), (395.37878787878776, 228.63708513708514)]\n"
     ]
    }
   ],
   "source": [
    "# Đọc ảnh\n",
    "im = Image.open(my_path)\n",
    "\n",
    "# Chuyển đôi backend\n",
    "plt.switch_backend('tkagg')\n",
    "\n",
    "# Hiện thị ảnh\n",
    "plt.imshow(im)\n",
    "plt.title('Chọn điểm ảnh')\n",
    "\n",
    "# Sử dụng hàm ginput để chọn điểm trên ảnh\n",
    "points = plt.ginput(5)\n",
    "\n",
    "print(points)\n",
    "\n",
    "# Hiển thị\n",
    "plt.show()"
   ]
  },
  {
   "cell_type": "code",
   "execution_count": 10,
   "id": "c5bdd2b5-e693-408c-8a0b-dce36f210c80",
   "metadata": {},
   "outputs": [],
   "source": [
    "# Vẽ lại các điểm đã chọn bằng dấu * màu đỏ\n",
    "plt.close()\n",
    "\n",
    "# Vẽ lại\n",
    "plt.imshow(im)\n",
    "for point in points:\n",
    "    x, y = point\n",
    "    plt.plot(x,y, 'r*')\n",
    "\n",
    "plt.show()"
   ]
  }
 ],
 "metadata": {
  "kernelspec": {
   "display_name": "Python 3 (ipykernel)",
   "language": "python",
   "name": "python3"
  },
  "language_info": {
   "codemirror_mode": {
    "name": "ipython",
    "version": 3
   },
   "file_extension": ".py",
   "mimetype": "text/x-python",
   "name": "python",
   "nbconvert_exporter": "python",
   "pygments_lexer": "ipython3",
   "version": "3.12.4"
  }
 },
 "nbformat": 4,
 "nbformat_minor": 5
}
