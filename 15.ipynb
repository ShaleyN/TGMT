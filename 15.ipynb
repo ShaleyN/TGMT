{
 "cells": [
  {
   "cell_type": "code",
   "execution_count": 3,
   "id": "714dd84c-5caa-47a1-8996-e1bac8a4695d",
   "metadata": {},
   "outputs": [
    {
     "name": "stdout",
     "output_type": "stream",
     "text": [
      "Defaulting to user installation because normal site-packages is not writeable\n",
      "Requirement already satisfied: scipy in d:\\anaconda\\lib\\site-packages (1.13.1)\n",
      "Requirement already satisfied: numpy<2.3,>=1.22.4 in d:\\anaconda\\lib\\site-packages (from scipy) (1.26.4)\n"
     ]
    }
   ],
   "source": [
    "!pip install scipy"
   ]
  },
  {
   "cell_type": "code",
   "execution_count": 7,
   "id": "91b9bc85-8ef4-4df4-b33c-a6e13cc8a555",
   "metadata": {},
   "outputs": [
    {
     "name": "stdout",
     "output_type": "stream",
     "text": [
      "Kết quả:  [ 3. -1.]\n"
     ]
    }
   ],
   "source": [
    "from scipy import linalg\n",
    "import numpy as np\n",
    "\n",
    "#Định nghĩa hệ chương trình tuyến tính\n",
    "A = np.array([[2,1],[3,2]])\n",
    "B = np.array([5, 7])\n",
    "\n",
    "#Giải hệ phương trình tuyến tính\n",
    "x = linalg.solve(A, B)\n",
    "print(\"Kết quả: \",x)"
   ]
  },
  {
   "cell_type": "code",
   "execution_count": 15,
   "id": "ee158893-79a3-4011-857a-343fe62e5fe7",
   "metadata": {},
   "outputs": [
    {
     "name": "stdout",
     "output_type": "stream",
     "text": [
      "Tích phân f(x) từ 1 đến 10:  391.5\n"
     ]
    }
   ],
   "source": [
    "#Tính tích phân của một hàm số\n",
    "from scipy import integrate\n",
    "\n",
    "#Định nghĩa f(x) = x*2\n",
    "def my_function(x):\n",
    "    return x**2+x+1;\n",
    "\n",
    "#Tính tích phân của f(x) từ 1 đến 10\n",
    "integral = integrate.quad(my_function, 1, 10);\n",
    "print(\"Tích phân f(x) từ 1 đến 10: \", integral[0])"
   ]
  }
 ],
 "metadata": {
  "kernelspec": {
   "display_name": "Python 3 (ipykernel)",
   "language": "python",
   "name": "python3"
  },
  "language_info": {
   "codemirror_mode": {
    "name": "ipython",
    "version": 3
   },
   "file_extension": ".py",
   "mimetype": "text/x-python",
   "name": "python",
   "nbconvert_exporter": "python",
   "pygments_lexer": "ipython3",
   "version": "3.12.4"
  }
 },
 "nbformat": 4,
 "nbformat_minor": 5
}
